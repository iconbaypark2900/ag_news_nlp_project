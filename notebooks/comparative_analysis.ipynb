{
 "cells": [
  {
   "cell_type": "code",
   "execution_count": 1,
   "metadata": {},
   "outputs": [],
   "source": [
    "# Import necessary libraries\n",
    "import pandas as pd\n",
    "from sklearn.feature_extraction.text import TfidfVectorizer\n",
    "from sklearn.linear_model import LogisticRegression\n",
    "from sklearn.metrics import accuracy_score, precision_score, recall_score"
   ]
  },
  {
   "cell_type": "code",
   "execution_count": 2,
   "metadata": {},
   "outputs": [],
   "source": [
    "# Load datasets\n",
    "train_stemmed = pd.read_csv('../data/processed/ag_news_p/train_stemmed.csv')\n",
    "test_stemmed = pd.read_csv('../data/processed/ag_news_p/test_stemmed.csv')\n",
    "train_lemmatized_wordnet = pd.read_csv('../data/processed/ag_news_p/train_lemmatized_wordnet.csv')\n",
    "test_lemmatized_wordnet = pd.read_csv('../data/processed/ag_news_p/test_lemmatized_wordnet.csv')\n",
    "train_lemmatized_spacy = pd.read_csv('../data/processed/ag_news_p/train_lemmatized_spacy.csv')\n",
    "test_lemmatized_spacy = pd.read_csv('../data/processed/ag_news_p/test_lemmatized_spacy.csv')"
   ]
  },
  {
   "cell_type": "code",
   "execution_count": 6,
   "metadata": {},
   "outputs": [],
   "source": [
    "# Vectorize and train models\n",
    "def train_and_evaluate(train_data, test_data, text_column):\n",
    "    vectorizer = TfidfVectorizer(max_features=1000)\n",
    "    X_train = vectorizer.fit_transform(train_data[text_column])\n",
    "    X_test = vectorizer.transform(test_data[text_column])\n",
    "    y_train = train_data['label']\n",
    "    y_test = test_data['label']\n",
    "\n",
    "    model = LogisticRegression(max_iter=200)  # Increase max_iter\n",
    "    model.fit(X_train, y_train)\n",
    "    y_pred = model.predict(X_test)\n",
    "\n",
    "    accuracy = accuracy_score(y_test, y_pred)\n",
    "    precision = precision_score(y_test, y_pred, average='weighted')\n",
    "    recall = recall_score(y_test, y_pred, average='weighted')\n",
    "\n",
    "    return accuracy, precision, recall"
   ]
  },
  {
   "cell_type": "code",
   "execution_count": 7,
   "metadata": {},
   "outputs": [
    {
     "name": "stdout",
     "output_type": "stream",
     "text": [
      "            stemmed  lemmatized_wordnet  lemmatized_spacy\n",
      "Accuracy   0.867895            0.867632          0.868158\n",
      "Precision  0.867385            0.867011          0.867534\n",
      "Recall     0.867895            0.867632          0.868158\n"
     ]
    }
   ],
   "source": [
    "# Evaluate models\n",
    "metrics = {}\n",
    "metrics['stemmed'] = train_and_evaluate(train_stemmed, test_stemmed, 'text_stemmed')\n",
    "metrics['lemmatized_wordnet'] = train_and_evaluate(train_lemmatized_wordnet, test_lemmatized_wordnet, 'text_lemmatized_wordnet')\n",
    "metrics['lemmatized_spacy'] = train_and_evaluate(train_lemmatized_spacy, test_lemmatized_spacy, 'text_lemmatized_spacy')\n",
    "\n",
    "# Compare results\n",
    "metrics_df = pd.DataFrame(metrics, index=['Accuracy', 'Precision', 'Recall'])\n",
    "print(metrics_df)"
   ]
  },
  {
   "cell_type": "code",
   "execution_count": 8,
   "metadata": {},
   "outputs": [
    {
     "name": "stderr",
     "output_type": "stream",
     "text": [
      "/tmp/ipykernel_441298/2348058053.py:14: UserWarning: No artists with labels found to put in legend.  Note that artists whose label start with an underscore are ignored when legend() is called with no argument.\n",
      "  plt.legend(loc='lower right')\n"
     ]
    },
    {
     "data": {
      "image/png": "[encoded data removed]",
      "text/plain": [
       "<Figure size 1000x600 with 1 Axes>"
      ]
     },
     "metadata": {},
     "output_type": "display_data"
    }
   ],
   "source": [
    "# Visualize results\n",
    "import matplotlib.pyplot as plt\n",
    "import seaborn as sns\n",
    "\n",
    "# Convert metrics to DataFrame for easier plotting\n",
    "metrics_df = pd.DataFrame(metrics, index=['Accuracy', 'Precision', 'Recall'])\n",
    "\n",
    "# Bar Plot with Annotations\n",
    "plt.figure(figsize=(12, 8))\n",
    "ax = sns.barplot(data=metrics_df.T)\n",
    "plt.title('Model Performance Comparison')\n",
    "plt.ylabel('Score')\n",
    "plt.ylim(0.85, 0.9)  # Adjust the y-axis for better visualization\n",
    "\n",
    "# Add annotations\n",
    "for p in ax.patches:\n",
    "    ax.annotate(f'{p.get_height():.4f}', (p.get_x() + p.get_width() / 2., p.get_height()),\n",
    "                ha='center', va='center', xytext=(0, 9), textcoords='offset points')\n",
    "\n",
    "plt.show()\n",
    "\n",
    "# Heatmap\n",
    "plt.figure(figsize=(8, 6))\n",
    "sns.heatmap(metrics_df, annot=True, cmap='coolwarm', vmin=0.85, vmax=0.9)\n",
    "plt.title('Performance Metrics Heatmap')\n",
    "plt.show()"
   ]
  },
  {
   "cell_type": "code",
   "execution_count": 5,
   "metadata": {},
   "outputs": [
    {
     "name": "stdout",
     "output_type": "stream",
     "text": [
      "Stemmed vs Lemmatized:\n",
      "Advantages and Disadvantages of Stemming:\n",
      "- Advantages: Simplicity, speed, less resource-intensive.\n",
      "- Disadvantages: Can over-stem, resulting in non-real words, less accurate in understanding context.\n",
      "Advantages and Disadvantages of Lemmatization:\n",
      "- Advantages: More accurate, considers context, results in real words.\n",
      "- Disadvantages: More computationally expensive, slower.\n"
     ]
    }
   ],
   "source": [
    "# Discuss results\n",
    "print(\"Stemmed vs Lemmatized:\")\n",
    "print(\"Advantages and Disadvantages of Stemming:\")\n",
    "print(\"- Advantages: Simplicity, speed, less resource-intensive.\")\n",
    "print(\"- Disadvantages: Can over-stem, resulting in non-real words, less accurate in understanding context.\")\n",
    "\n",
    "print(\"Advantages and Disadvantages of Lemmatization:\")\n",
    "print(\"- Advantages: More accurate, considers context, results in real words.\")\n",
    "print(\"- Disadvantages: More computationally expensive, slower.\")"
   ]
  }
 ],
 "metadata": {
  "kernelspec": {
   "display_name": "agenv",
   "language": "python",
   "name": "python3"
  },
  "language_info": {
   "codemirror_mode": {
    "name": "ipython",
    "version": 3
   },
   "file_extension": ".py",
   "mimetype": "text/x-python",
   "name": "python",
   "nbconvert_exporter": "python",
   "pygments_lexer": "ipython3",
   "version": "3.11.9"
  }
 },
 "nbformat": 4,
 "nbformat_minor": 2
}
